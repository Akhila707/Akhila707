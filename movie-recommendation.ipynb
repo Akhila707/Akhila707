{
 "cells": [
  {
   "cell_type": "code",
   "execution_count": null,
   "id": "88045e63",
   "metadata": {
    "_cell_guid": "e3f4607a-06ac-47d7-b9a2-b4ab4618acb2",
    "_uuid": "eadfb304-37ea-4ddb-9343-ba9fb78d2a04",
    "collapsed": false,
    "jupyter": {
     "outputs_hidden": false
    },
    "papermill": {
     "duration": 0.001888,
     "end_time": "2024-10-04T12:13:42.938807",
     "exception": false,
     "start_time": "2024-10-04T12:13:42.936919",
     "status": "completed"
    },
    "tags": []
   },
   "outputs": [],
   "source": []
  }
 ],
 "metadata": {
  "kaggle": {
   "accelerator": "none",
   "dataSources": [
    {
     "datasetId": 5816377,
     "sourceId": 9546792,
     "sourceType": "datasetVersion"
    }
   ],
   "dockerImageVersionId": 30786,
   "isGpuEnabled": false,
   "isInternetEnabled": false,
   "language": "python",
   "sourceType": "notebook"
  },
  "kernelspec": {
   "display_name": "Python 3",
   "language": "python",
   "name": "python3"
  },
  "language_info": {
   "codemirror_mode": {
    "name": "ipython",
    "version": 3
   },
   "file_extension": ".py",
   "mimetype": "text/x-python",
   "name": "python",
   "nbconvert_exporter": "python",
   "pygments_lexer": "ipython3",
   "version": "3.10.14"
  },
  "papermill": {
   "default_parameters": {},
   "duration": 3.567083,
   "end_time": "2024-10-04T12:13:43.260347",
   "environment_variables": {},
   "exception": null,
   "input_path": "__notebook__.ipynb",
   "output_path": "__notebook__.ipynb",
   "parameters": {},
   "start_time": "2024-10-04T12:13:39.693264",
   "version": "2.6.0"
  }
 },
 "nbformat": 4,
 "nbformat_minor": 5
}
